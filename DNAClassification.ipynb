{
 "cells": [
  {
   "cell_type": "markdown",
   "metadata": {},
   "source": [
    "# DNA Classification\n",
    "Note: I did not write all of the following code. Some of it was taken from keras examples and modified."
   ]
  },
  {
   "cell_type": "code",
   "execution_count": 1,
   "metadata": {
    "executionInfo": {
     "elapsed": 3914,
     "status": "ok",
     "timestamp": 1632530761734,
     "user": {
      "displayName": "Isaac Manring",
      "photoUrl": "https://lh3.googleusercontent.com/a/default-user=s64",
      "userId": "00698360341474675091"
     },
     "user_tz": 240
    },
    "id": "ZF5UrDq93pBH"
   },
   "outputs": [],
   "source": [
    "import tensorflow as tf\n",
    "import numpy as np\n",
    "from pandas import read_csv, DataFrame\n",
    "from scipy import stats\n",
    "import time"
   ]
  },
  {
   "cell_type": "markdown",
   "metadata": {
    "id": "KxH05WGpMrGc"
   },
   "source": [
    "# CNN Classification"
   ]
  },
  {
   "cell_type": "code",
   "execution_count": 34,
   "metadata": {
    "executionInfo": {
     "elapsed": 8618,
     "status": "ok",
     "timestamp": 1632511817080,
     "user": {
      "displayName": "Isaac Manring",
      "photoUrl": "https://lh3.googleusercontent.com/a/default-user=s64",
      "userId": "00698360341474675091"
     },
     "user_tz": 240
    },
    "id": "dWK7EwOp6BZD"
   },
   "outputs": [],
   "source": [
    "features_df = read_csv('train_features.csv')\n",
    "labels_df = read_csv('/train_labels.csv')\n",
    "features = features_df.values[:,1]\n",
    "for i in range(len(features)):\n",
    "  temp = np.zeros(600)\n",
    "  for j in range(len(temp)):\n",
    "    try:\n",
    "      if features[i][j] == 'A':\n",
    "        temp[j] = 1\n",
    "      elif features[i][j] == 'C':\n",
    "        temp[j] = 2\n",
    "      elif features[i][j] == 'G':\n",
    "        temp[j] = 3\n",
    "      elif features[i][j] == 'T':\n",
    "        temp[j] = 4\n",
    "      else:\n",
    "        temp[j] = 0\n",
    "    except IndexError:\n",
    "      temp[j] = 0\n",
    "  features[i] = temp\n",
    "  features[i] = tf.keras.utils.to_categorical(features[i])\n",
    "features = np.stack(features)\n",
    "labels = labels_df.values\n",
    "trainy = tf.keras.utils.to_categorical(labels[:,1])\n",
    "\n",
    "test_features_df = read_csv('/content/drive/My Drive/Colab Notebooks/Kaggle Competition/test_features.csv')\n",
    "test_features = test_features_df.values[:,1]\n",
    "for i in range(len(test_features)):\n",
    "  temp = np.zeros(600)\n",
    "  for j in range(len(temp)):\n",
    "    try:\n",
    "      if test_features[i][j] == 'A':\n",
    "        temp[j] = 1\n",
    "      elif test_features[i][j] == 'C':\n",
    "        temp[j] = 2\n",
    "      elif test_features[i][j] == 'G':\n",
    "        temp[j] = 3\n",
    "      elif test_features[i][j] == 'T':\n",
    "        temp[j] = 4\n",
    "      else:\n",
    "        temp[j] = 0\n",
    "    except IndexError:\n",
    "      temp[j] = 0\n",
    "  test_features[i] = temp\n",
    "  test_features[i] = tf.keras.utils.to_categorical(test_features[i])\n",
    "test_features = np.stack(test_features)"
   ]
  },
  {
   "cell_type": "code",
   "execution_count": 35,
   "metadata": {
    "executionInfo": {
     "elapsed": 202,
     "status": "ok",
     "timestamp": 1632511831067,
     "user": {
      "displayName": "Isaac Manring",
      "photoUrl": "https://lh3.googleusercontent.com/a/default-user=s64",
      "userId": "00698360341474675091"
     },
     "user_tz": 240
    },
    "id": "BjckjU9SGdwV"
   },
   "outputs": [],
   "source": [
    "n_locations, n_features, n_outputs = features.shape[1], features.shape[2], trainy.shape[1]"
   ]
  },
  {
   "cell_type": "code",
   "execution_count": 36,
   "metadata": {
    "colab": {
     "base_uri": "https://localhost:8080/"
    },
    "executionInfo": {
     "elapsed": 292,
     "status": "ok",
     "timestamp": 1632511831357,
     "user": {
      "displayName": "Isaac Manring",
      "photoUrl": "https://lh3.googleusercontent.com/a/default-user=s64",
      "userId": "00698360341474675091"
     },
     "user_tz": 240
    },
    "id": "leW1vaBJ81FQ",
    "outputId": "3b1ea6f7-443e-4ed4-d700-5cfcc431bff1"
   },
   "outputs": [
    {
     "name": "stdout",
     "output_type": "stream",
     "text": [
      "Model: \"sequential_7\"\n",
      "_________________________________________________________________\n",
      "Layer (type)                 Output Shape              Param #   \n",
      "=================================================================\n",
      "conv1d_6 (Conv1D)            (None, 588, 10)           660       \n",
      "_________________________________________________________________\n",
      "max_pooling1d_6 (MaxPooling1 (None, 196, 10)           0         \n",
      "_________________________________________________________________\n",
      "conv1d_7 (Conv1D)            (None, 184, 20)           2620      \n",
      "_________________________________________________________________\n",
      "max_pooling1d_7 (MaxPooling1 (None, 61, 20)            0         \n",
      "_________________________________________________________________\n",
      "conv1d_8 (Conv1D)            (None, 49, 40)            10440     \n",
      "_________________________________________________________________\n",
      "max_pooling1d_8 (MaxPooling1 (None, 16, 40)            0         \n",
      "_________________________________________________________________\n",
      "flatten_7 (Flatten)          (None, 640)               0         \n",
      "_________________________________________________________________\n",
      "dropout_7 (Dropout)          (None, 640)               0         \n",
      "_________________________________________________________________\n",
      "dense_14 (Dense)             (None, 75)                48075     \n",
      "_________________________________________________________________\n",
      "dense_15 (Dense)             (None, 1214)              92264     \n",
      "=================================================================\n",
      "Total params: 154,059\n",
      "Trainable params: 154,059\n",
      "Non-trainable params: 0\n",
      "_________________________________________________________________\n"
     ]
    }
   ],
   "source": [
    "model = tf.keras.Sequential()\n",
    "model.add(tf.keras.layers.Conv1D(10,13,activation='relu',input_shape=(n_locations, n_features)))#,kernel_regularizer=tf.keras.regularizers.l2(l2=.01)))\n",
    "#model.add(tf.keras.layers.Dropout(.5))\n",
    "model.add(tf.keras.layers.MaxPool1D(pool_size=3))\n",
    "model.add(tf.keras.layers.Conv1D(20, 13, activation='relu'))#,kernel_regularizer=tf.keras.regularizers.l2(l2=.01)))\n",
    "model.add(tf.keras.layers.MaxPool1D(pool_size=3))\n",
    "model.add(tf.keras.layers.Conv1D(40, 13, activation='relu'))#,kernel_regularizer=tf.keras.regularizers.l2(l2=.01)))\n",
    "model.add(tf.keras.layers.MaxPool1D(pool_size=3))\n",
    "model.add(tf.keras.layers.Flatten())\n",
    "model.add(tf.keras.layers.Dropout(.25))\n",
    "model.add(tf.keras.layers.Dense(75, activation='relu'))#,kernel_regularizer=tf.keras.regularizers.l1(l1=.01)))\n",
    "model.add(tf.keras.layers.Dense(n_outputs,activation='softmax'))\n",
    "model.summary()"
   ]
  },
  {
   "cell_type": "code",
   "execution_count": 38,
   "metadata": {
    "colab": {
     "base_uri": "https://localhost:8080/"
    },
    "executionInfo": {
     "elapsed": 82982,
     "status": "ok",
     "timestamp": 1632512057856,
     "user": {
      "displayName": "Isaac Manring",
      "photoUrl": "https://lh3.googleusercontent.com/a/default-user=s64",
      "userId": "00698360341474675091"
     },
     "user_tz": 240
    },
    "id": "cRkB9Qe4GrJ8",
    "outputId": "4931b8e5-e384-4476-902f-481367c19d1f"
   },
   "outputs": [
    {
     "name": "stdout",
     "output_type": "stream",
     "text": [
      "Epoch 1/5\n",
      "202/202 [==============================] - 12s 54ms/step - loss: 0.0773 - accuracy: 0.9774 - val_loss: 0.0298 - val_accuracy: 0.9900\n",
      "Epoch 2/5\n",
      "202/202 [==============================] - 11s 52ms/step - loss: 0.0605 - accuracy: 0.9826 - val_loss: 0.0283 - val_accuracy: 0.9921\n",
      "Epoch 3/5\n",
      "202/202 [==============================] - 11s 53ms/step - loss: 0.0504 - accuracy: 0.9857 - val_loss: 0.0171 - val_accuracy: 0.9942\n",
      "Epoch 4/5\n",
      "202/202 [==============================] - 11s 53ms/step - loss: 0.0495 - accuracy: 0.9854 - val_loss: 0.0187 - val_accuracy: 0.9921\n",
      "Epoch 5/5\n",
      "202/202 [==============================] - 10s 51ms/step - loss: 0.0447 - accuracy: 0.9879 - val_loss: 0.0168 - val_accuracy: 0.9963\n"
     ]
    }
   ],
   "source": [
    "model.compile(optimizer='adam',\n",
    "              loss ='categorical_crossentropy',\n",
    "              metrics=['accuracy'])\n",
    "history = model.fit(features[11000:], trainy[11000:], validation_data=(features[11000:],trainy[11000:]), batch_size=64, epochs=5)"
   ]
  },
  {
   "cell_type": "code",
   "execution_count": 39,
   "metadata": {
    "executionInfo": {
     "elapsed": 3161,
     "status": "ok",
     "timestamp": 1632512076263,
     "user": {
      "displayName": "Isaac Manring",
      "photoUrl": "https://lh3.googleusercontent.com/a/default-user=s64",
      "userId": "00698360341474675091"
     },
     "user_tz": 240
    },
    "id": "vdCHhZ4sTQ-P"
   },
   "outputs": [],
   "source": [
    "CNNpred = model.predict(test_features)"
   ]
  },
  {
   "cell_type": "markdown",
   "metadata": {
    "id": "t-GeZMq7YWka"
   },
   "source": [
    "# GAN For New Species Detection"
   ]
  },
  {
   "cell_type": "code",
   "execution_count": 43,
   "metadata": {
    "executionInfo": {
     "elapsed": 227,
     "status": "ok",
     "timestamp": 1632502056150,
     "user": {
      "displayName": "Isaac Manring",
      "photoUrl": "https://lh3.googleusercontent.com/a/default-user=s64",
      "userId": "00698360341474675091"
     },
     "user_tz": 240
    },
    "id": "FVDXGcNCniUO"
   },
   "outputs": [],
   "source": [
    "modelG = tf.keras.Sequential(\n",
    "        [\n",
    "            tf.keras.layers.InputLayer(input_shape=(100,)),\n",
    "            tf.keras.layers.Dense(units=200, activation=tf.nn.relu),\n",
    "            tf.keras.layers.Dense(100,activation='relu'),\n",
    "            tf.keras.layers.Dense(n_outputs, activation='softmax')\n",
    "        ]\n",
    "    )\n",
    "modelD = tf.keras.Sequential(\n",
    "        [\n",
    "            tf.keras.layers.InputLayer(input_shape=(n_outputs,)),\n",
    "            tf.keras.layers.Dense(200, activation='relu'),\n",
    "            tf.keras.layers.Dense(100,activation='relu'),\n",
    "            tf.keras.layers.Dense(1,activation='sigmoid'),\n",
    "        ]\n",
    "    )"
   ]
  },
  {
   "cell_type": "code",
   "execution_count": 45,
   "metadata": {
    "colab": {
     "base_uri": "https://localhost:8080/"
    },
    "executionInfo": {
     "elapsed": 110,
     "status": "ok",
     "timestamp": 1632502075096,
     "user": {
      "displayName": "Isaac Manring",
      "photoUrl": "https://lh3.googleusercontent.com/a/default-user=s64",
      "userId": "00698360341474675091"
     },
     "user_tz": 240
    },
    "id": "arFQXKX_oLMs",
    "outputId": "cabe91fa-5f8e-4f0f-d123-9a1a8099fb07"
   },
   "outputs": [
    {
     "name": "stdout",
     "output_type": "stream",
     "text": [
      "Model: \"sequential_12\"\n",
      "_________________________________________________________________\n",
      "Layer (type)                 Output Shape              Param #   \n",
      "=================================================================\n",
      "dense_25 (Dense)             (None, 200)               243000    \n",
      "_________________________________________________________________\n",
      "dense_26 (Dense)             (None, 100)               20100     \n",
      "_________________________________________________________________\n",
      "dense_27 (Dense)             (None, 1)                 101       \n",
      "=================================================================\n",
      "Total params: 263,201\n",
      "Trainable params: 263,201\n",
      "Non-trainable params: 0\n",
      "_________________________________________________________________\n"
     ]
    }
   ],
   "source": [
    "modelD.summary()"
   ]
  },
  {
   "cell_type": "code",
   "execution_count": 46,
   "metadata": {
    "executionInfo": {
     "elapsed": 111,
     "status": "ok",
     "timestamp": 1632502088506,
     "user": {
      "displayName": "Isaac Manring",
      "photoUrl": "https://lh3.googleusercontent.com/a/default-user=s64",
      "userId": "00698360341474675091"
     },
     "user_tz": 240
    },
    "id": "As9FqpPEobIg"
   },
   "outputs": [],
   "source": [
    "optimizer = tf.keras.optimizers.Adam(0.0002, 0.5)\n",
    "\n",
    "# compile the discriminator\n",
    "modelD.compile(loss='binary_crossentropy',\n",
    "    optimizer='adam',\n",
    "    metrics=['accuracy'])\n",
    "\n",
    "# The generator takes noise as input and generates imgs\n",
    "z = tf.keras.Input(shape=(100,))\n",
    "img = modelG(z)\n",
    "\n",
    "# The discriminator takes generated images as input and determines if real or fake\n",
    "real = modelD(img)\n",
    "\n",
    "combined = tf.keras.models.Model(z, real)\n",
    "combined.compile(loss='binary_crossentropy', optimizer='adam')"
   ]
  },
  {
   "cell_type": "code",
   "execution_count": 97,
   "metadata": {
    "executionInfo": {
     "elapsed": 102,
     "status": "ok",
     "timestamp": 1632503558305,
     "user": {
      "displayName": "Isaac Manring",
      "photoUrl": "https://lh3.googleusercontent.com/a/default-user=s64",
      "userId": "00698360341474675091"
     },
     "user_tz": 240
    },
    "id": "foZpvk-goi9p"
   },
   "outputs": [],
   "source": [
    "batch_size=50\n",
    "\n",
    "# Adversarial ground truths\n",
    "real = np.ones((batch_size, 1))\n",
    "fake = np.zeros((batch_size, 1))"
   ]
  },
  {
   "cell_type": "code",
   "execution_count": 48,
   "metadata": {
    "executionInfo": {
     "elapsed": 5430,
     "status": "ok",
     "timestamp": 1632502096009,
     "user": {
      "displayName": "Isaac Manring",
      "photoUrl": "https://lh3.googleusercontent.com/a/default-user=s64",
      "userId": "00698360341474675091"
     },
     "user_tz": 240
    },
    "id": "aWV3Hlrjossa"
   },
   "outputs": [],
   "source": [
    "pred = model.predict(features)"
   ]
  },
  {
   "cell_type": "code",
   "execution_count": null,
   "metadata": {
    "id": "-pzVw0ubon3i"
   },
   "outputs": [],
   "source": [
    "for epoch in range(500):\n",
    "    #make discriminator trainable\n",
    "    if (epoch % 166 == 0):\n",
    "      choices = np.random.choice(8306,8300,replace=False)\n",
    "    \n",
    "    for layer in modelD.layers:\n",
    "      layer.trainable = True\n",
    "    for i in range(4):\n",
    "      # Select random batch of real images\n",
    "      dna = pred[choices[(epoch%166)*50:(epoch%166+1)*50]]\n",
    "      # Sample noise and generate a batch of fake images\n",
    "      noise = np.random.normal(0, 1, (batch_size, 100))\n",
    "      gen_dna = modelG.predict(noise)\n",
    "\n",
    "      randDNA = np.random.normal(0,1, (batch_size,660,5))\n",
    "      out = model.predict(randDNA)\n",
    "      # Train the discriminator (real classified as ones and generated as zeros)\n",
    "      d_loss_real = modelD.train_on_batch(dna, real)\n",
    "      d_loss_fake = modelD.train_on_batch(gen_dna, fake)\n",
    "      d_loss_cnn = modelD.train_on_batch(out, fake)\n",
    "      d_loss = 0.5 * np.add(d_loss_real, d_loss_fake)\n",
    "    print (\"%d [D loss: %f, acc.: %.2f%%]\" % (epoch, d_loss[0], 100*d_loss[1]))\n",
    "    # Train the generator (discriminator cannot be trainable)\n",
    "    for layer in modelD.layers:\n",
    "      layer.trainable = False\n",
    "    for i in range (4):\n",
    "      noise = np.random.normal(0, 1, (batch_size, 100))\n",
    "      g_loss = combined.train_on_batch(noise, real)\n",
    "    print (\"G loss: %f\" % g_loss)"
   ]
  },
  {
   "cell_type": "markdown",
   "metadata": {
    "id": "Rtq36teoYd0n"
   },
   "source": [
    "Test GAN on Generated prediction"
   ]
  },
  {
   "cell_type": "code",
   "execution_count": 123,
   "metadata": {
    "colab": {
     "base_uri": "https://localhost:8080/"
    },
    "executionInfo": {
     "elapsed": 286,
     "status": "ok",
     "timestamp": 1632505079417,
     "user": {
      "displayName": "Isaac Manring",
      "photoUrl": "https://lh3.googleusercontent.com/a/default-user=s64",
      "userId": "00698360341474675091"
     },
     "user_tz": 240
    },
    "id": "6ykdvCpktji5",
    "outputId": "780a1c81-19a9-4458-e675-1ec048516f51"
   },
   "outputs": [
    {
     "name": "stdout",
     "output_type": "stream",
     "text": [
      "[[1.0242099e-16 1.1180212e-16 7.7807324e-16 ... 3.3492722e-17\n",
      "  5.5504960e-13 3.7416605e-17]]\n",
      "[[0.18541741]]\n"
     ]
    }
   ],
   "source": [
    "rand = np.random.normal(0, 1, (1, 100))\n",
    "psuedoDNA = modelG.predict(rand)\n",
    "print(psuedoDNA)\n",
    "print(modelD.predict(psuedoDNA))"
   ]
  },
  {
   "cell_type": "markdown",
   "metadata": {
    "id": "p1zPA8qGYln0"
   },
   "source": [
    "Test GAN on Noise run through CNN"
   ]
  },
  {
   "cell_type": "code",
   "execution_count": 124,
   "metadata": {
    "colab": {
     "base_uri": "https://localhost:8080/"
    },
    "executionInfo": {
     "elapsed": 261,
     "status": "ok",
     "timestamp": 1632505081345,
     "user": {
      "displayName": "Isaac Manring",
      "photoUrl": "https://lh3.googleusercontent.com/a/default-user=s64",
      "userId": "00698360341474675091"
     },
     "user_tz": 240
    },
    "id": "KnzMr9yNt5wm",
    "outputId": "ba3ca4ca-09fc-4c88-bcd4-0f7170c125ff"
   },
   "outputs": [
    {
     "data": {
      "text/plain": [
       "array([[0.06098208]], dtype=float32)"
      ]
     },
     "execution_count": 124,
     "metadata": {},
     "output_type": "execute_result"
    }
   ],
   "source": [
    "randDNA = np.random.normal(0,1, (1,660,5))\n",
    "out = model.predict(randDNA)\n",
    "modelD.predict(out)"
   ]
  },
  {
   "cell_type": "code",
   "execution_count": 125,
   "metadata": {
    "executionInfo": {
     "elapsed": 5873,
     "status": "ok",
     "timestamp": 1632505089742,
     "user": {
      "displayName": "Isaac Manring",
      "photoUrl": "https://lh3.googleusercontent.com/a/default-user=s64",
      "userId": "00698360341474675091"
     },
     "user_tz": 240
    },
    "id": "xrTggIZ-uIKu"
   },
   "outputs": [],
   "source": [
    "est = modelD.predict(model.predict(features))"
   ]
  },
  {
   "cell_type": "code",
   "execution_count": 128,
   "metadata": {
    "executionInfo": {
     "elapsed": 3078,
     "status": "ok",
     "timestamp": 1632505146954,
     "user": {
      "displayName": "Isaac Manring",
      "photoUrl": "https://lh3.googleusercontent.com/a/default-user=s64",
      "userId": "00698360341474675091"
     },
     "user_tz": 240
    },
    "id": "he5mOf3MuHI2"
   },
   "outputs": [],
   "source": [
    "pred_test = model.predict(test_features)\n",
    "GANpredictions = modelD.predict(pred_test)"
   ]
  },
  {
   "cell_type": "code",
   "execution_count": 129,
   "metadata": {
    "colab": {
     "base_uri": "https://localhost:8080/"
    },
    "executionInfo": {
     "elapsed": 95,
     "status": "ok",
     "timestamp": 1632505188360,
     "user": {
      "displayName": "Isaac Manring",
      "photoUrl": "https://lh3.googleusercontent.com/a/default-user=s64",
      "userId": "00698360341474675091"
     },
     "user_tz": 240
    },
    "id": "ad_cilh7zmOa",
    "outputId": "cc096b36-480d-482b-a9db-c686f4a60518"
   },
   "outputs": [
    {
     "data": {
      "text/plain": [
       "array([0.07805833], dtype=float32)"
      ]
     },
     "execution_count": 129,
     "metadata": {},
     "output_type": "execute_result"
    }
   ],
   "source": [
    "sorted(GANpredictions)[100]"
   ]
  },
  {
   "cell_type": "code",
   "execution_count": 52,
   "metadata": {
    "colab": {
     "base_uri": "https://localhost:8080/"
    },
    "executionInfo": {
     "elapsed": 3528,
     "status": "ok",
     "timestamp": 1632513015138,
     "user": {
      "displayName": "Isaac Manring",
      "photoUrl": "https://lh3.googleusercontent.com/a/default-user=s64",
      "userId": "00698360341474675091"
     },
     "user_tz": 240
    },
    "id": "w_JYviWcDdPZ",
    "outputId": "ce879a03-77c9-47c8-94f6-285588af8295"
   },
   "outputs": [
    {
     "name": "stdout",
     "output_type": "stream",
     "text": [
      "46\n"
     ]
    }
   ],
   "source": [
    "pred = model.predict(test_features)\n",
    "id = np.asarray(range(1,len(pred)+1))\n",
    "count = 0\n",
    "condensed = [-1]*len(pred)\n",
    "for i in range(len(pred)):\n",
    "  condensed[i] = list(pred[i]).index(max(pred[i]))\n",
    "  if max(pred[i]) < .4:\n",
    "    count += 1\n",
    "    condensed[i] = -1\n",
    "condensed = np.asarray(condensed)\n",
    "print(count)\n",
    "out = np.vstack((id,condensed)).T\n",
    "np.savetxt(\"/predictions.csv\",out,delimiter=',',fmt='%d')"
   ]
  },
  {
   "cell_type": "markdown",
   "metadata": {
    "id": "Hn8-6jLXMiEC"
   },
   "source": [
    "# GAN Model To Find New Species\n",
    "This GAN is similar to the previous one, but it is trained on the DNA data rather than the predictions"
   ]
  },
  {
   "cell_type": "code",
   "execution_count": 8,
   "metadata": {
    "executionInfo": {
     "elapsed": 126,
     "status": "ok",
     "timestamp": 1632486005264,
     "user": {
      "displayName": "Isaac Manring",
      "photoUrl": "https://lh3.googleusercontent.com/a/default-user=s64",
      "userId": "00698360341474675091"
     },
     "user_tz": 240
    },
    "id": "kRAYBG2ELtUZ"
   },
   "outputs": [],
   "source": [
    "modelG = tf.keras.Sequential(\n",
    "        [\n",
    "            tf.keras.layers.InputLayer(input_shape=(100,)),\n",
    "            tf.keras.layers.Dense(units=165*32, activation=tf.nn.relu),\n",
    "            tf.keras.layers.Reshape(target_shape=(165, 32)),\n",
    "            tf.keras.layers.Conv1DTranspose(\n",
    "                filters=32, kernel_size=5, strides = 2, padding='same',\n",
    "                activation='relu'),\n",
    "            tf.keras.layers.Conv1DTranspose(\n",
    "                filters=16, kernel_size=5, strides = 2, padding='same',\n",
    "                activation='relu'),\n",
    "            # No activation\n",
    "            tf.keras.layers.Conv1DTranspose(\n",
    "                filters=5, kernel_size=5, padding='same'),\n",
    "        ]\n",
    "    )\n",
    "modelD = tf.keras.Sequential(\n",
    "        [\n",
    "            tf.keras.layers.InputLayer(input_shape=(660,5)),\n",
    "            tf.keras.layers.Conv1D(\n",
    "                filters=16, kernel_size=5, activation='relu'),\n",
    "            tf.keras.layers.Conv1D(\n",
    "                filters=32, kernel_size=5, activation='relu'),\n",
    "            tf.keras.layers.Flatten(),\n",
    "            # No activation\n",
    "            tf.keras.layers.Dense(1,activation='sigmoid'),\n",
    "        ]\n",
    "    )"
   ]
  },
  {
   "cell_type": "code",
   "execution_count": 9,
   "metadata": {
    "colab": {
     "base_uri": "https://localhost:8080/"
    },
    "executionInfo": {
     "elapsed": 5,
     "status": "ok",
     "timestamp": 1632486005265,
     "user": {
      "displayName": "Isaac Manring",
      "photoUrl": "https://lh3.googleusercontent.com/a/default-user=s64",
      "userId": "00698360341474675091"
     },
     "user_tz": 240
    },
    "id": "mWQyXK-SOnE6",
    "outputId": "6aee63a7-8200-4c44-81f8-ae9369160d2b"
   },
   "outputs": [
    {
     "name": "stdout",
     "output_type": "stream",
     "text": [
      "Model: \"sequential_2\"\n",
      "_________________________________________________________________\n",
      "Layer (type)                 Output Shape              Param #   \n",
      "=================================================================\n",
      "conv1d_3 (Conv1D)            (None, 656, 16)           416       \n",
      "_________________________________________________________________\n",
      "conv1d_4 (Conv1D)            (None, 652, 32)           2592      \n",
      "_________________________________________________________________\n",
      "flatten_1 (Flatten)          (None, 20864)             0         \n",
      "_________________________________________________________________\n",
      "dense_3 (Dense)              (None, 1)                 20865     \n",
      "=================================================================\n",
      "Total params: 23,873\n",
      "Trainable params: 23,873\n",
      "Non-trainable params: 0\n",
      "_________________________________________________________________\n"
     ]
    }
   ],
   "source": [
    "modelD.summary()"
   ]
  },
  {
   "cell_type": "code",
   "execution_count": 10,
   "metadata": {
    "executionInfo": {
     "elapsed": 115,
     "status": "ok",
     "timestamp": 1632486005377,
     "user": {
      "displayName": "Isaac Manring",
      "photoUrl": "https://lh3.googleusercontent.com/a/default-user=s64",
      "userId": "00698360341474675091"
     },
     "user_tz": 240
    },
    "id": "QqQ8C_XdLvH8"
   },
   "outputs": [],
   "source": [
    "optimizer = tf.keras.optimizers.Adam(0.0002, 0.5)\n",
    "\n",
    "# compile the discriminator\n",
    "modelD.compile(loss='binary_crossentropy',\n",
    "    optimizer='adam',\n",
    "    metrics=['accuracy'])\n",
    "\n",
    "# The generator takes noise as input and generates imgs\n",
    "z = tf.keras.Input(shape=(100,))\n",
    "img = modelG(z)\n",
    "\n",
    "# The discriminator takes generated images as input and determines if real or fake\n",
    "real = modelD(img)\n",
    "\n",
    "combined = tf.keras.models.Model(z, real)\n",
    "combined.compile(loss='binary_crossentropy', optimizer='adam')"
   ]
  },
  {
   "cell_type": "code",
   "execution_count": 11,
   "metadata": {
    "executionInfo": {
     "elapsed": 110,
     "status": "ok",
     "timestamp": 1632486022582,
     "user": {
      "displayName": "Isaac Manring",
      "photoUrl": "https://lh3.googleusercontent.com/a/default-user=s64",
      "userId": "00698360341474675091"
     },
     "user_tz": 240
    },
    "id": "MaUXNJHBL3xD"
   },
   "outputs": [],
   "source": [
    "batch_size=128\n",
    "\n",
    "# Adversarial ground truths\n",
    "real = np.ones((batch_size, 1))\n",
    "fake = np.zeros((batch_size, 1))"
   ]
  },
  {
   "cell_type": "code",
   "execution_count": null,
   "metadata": {
    "id": "4Z6-7wJiL6Fm"
   },
   "outputs": [],
   "source": [
    "for epoch in range(1000):\n",
    "    #make discriminator trainable\n",
    "    for layer in modelD.layers:\n",
    "      layer.trainable = True\n",
    "    \n",
    "    for i in range(4):\n",
    "    # Select random batch of real images\n",
    "      idx = np.random.randint(0, features.shape[0], batch_size)\n",
    "      dna = features[idx]\n",
    "      # Sample noise and generate a batch of fake images\n",
    "      noise = np.random.normal(0, 1, (batch_size, 100))\n",
    "      gen_dna = modelG.predict(noise)\n",
    "      # Train the discriminator (real classified as ones and generated as zeros)\n",
    "      d_loss_real = modelD.train_on_batch(dna, real)\n",
    "      d_loss_fake = modelD.train_on_batch(gen_dna, fake)\n",
    "      d_loss = 0.5 * np.add(d_loss_real, d_loss_fake)\n",
    "    print (\"%d [D loss: %f, acc.: %.2f%%]\" % (epoch, d_loss[0], 100*d_loss[1]))\n",
    "    \n",
    "    # Train the generator (discriminator cannot be trainable)\n",
    "    for layer in modelD.layers:\n",
    "      layer.trainable = False\n",
    "    for i in range (4):\n",
    "      noise = np.random.normal(0, 1, (batch_size, 100))\n",
    "      g_loss = combined.train_on_batch(noise, real)\n",
    "    print (\"G loss: %f\" % g_loss)"
   ]
  },
  {
   "cell_type": "code",
   "execution_count": 13,
   "metadata": {
    "colab": {
     "base_uri": "https://localhost:8080/"
    },
    "executionInfo": {
     "elapsed": 296,
     "status": "ok",
     "timestamp": 1632488044842,
     "user": {
      "displayName": "Isaac Manring",
      "photoUrl": "https://lh3.googleusercontent.com/a/default-user=s64",
      "userId": "00698360341474675091"
     },
     "user_tz": 240
    },
    "id": "uajsC-60MRKj",
    "outputId": "62f64816-c422-4c56-cc8a-a023d5be09c6"
   },
   "outputs": [
    {
     "data": {
      "text/plain": [
       "array([[0.]], dtype=float32)"
      ]
     },
     "execution_count": 13,
     "metadata": {},
     "output_type": "execute_result"
    }
   ],
   "source": [
    "#test GAN on noise\n",
    "randDNA = np.random.normal(0,1, (1,660,5))\n",
    "modelD.predict(randDNA)"
   ]
  },
  {
   "cell_type": "code",
   "execution_count": 14,
   "metadata": {
    "colab": {
     "base_uri": "https://localhost:8080/"
    },
    "executionInfo": {
     "elapsed": 247,
     "status": "ok",
     "timestamp": 1632488046199,
     "user": {
      "displayName": "Isaac Manring",
      "photoUrl": "https://lh3.googleusercontent.com/a/default-user=s64",
      "userId": "00698360341474675091"
     },
     "user_tz": 240
    },
    "id": "sGKyqRFRnKIj",
    "outputId": "9647d1d6-283b-4456-fd11-f05d95d19b95"
   },
   "outputs": [
    {
     "name": "stdout",
     "output_type": "stream",
     "text": [
      "[[[ 0.03492256  0.11380237  0.10538694  0.12676129  0.01984935]\n",
      "  [ 0.07650568  0.14554189  0.06029651  0.0966088   0.20774454]\n",
      "  [ 0.02081677  0.14120835 -0.08018703  0.06806859  0.6372641 ]\n",
      "  ...\n",
      "  [-0.6873522  -0.12492496  1.2300451   0.44943583  0.81204826]\n",
      "  [-1.9546212  -0.8767197   3.896583   -0.04179324  3.5478032 ]\n",
      "  [-0.3235383  -0.9957245   1.2098037   0.18126544  2.9916213 ]]]\n",
      "[[1.]]\n"
     ]
    }
   ],
   "source": [
    "rand = np.random.normal(0, 1, (1, 100))\n",
    "psuedoDNA = modelG.predict(rand)\n",
    "print(psuedoDNA)\n",
    "print(modelD.predict(psuedoDNA))"
   ]
  },
  {
   "cell_type": "markdown",
   "metadata": {
    "id": "7LS4XCFyM18M"
   },
   "source": [
    "Make predictions With GAN and CNN"
   ]
  },
  {
   "cell_type": "code",
   "execution_count": 15,
   "metadata": {
    "colab": {
     "base_uri": "https://localhost:8080/"
    },
    "executionInfo": {
     "elapsed": 2070,
     "status": "ok",
     "timestamp": 1632488055828,
     "user": {
      "displayName": "Isaac Manring",
      "photoUrl": "https://lh3.googleusercontent.com/a/default-user=s64",
      "userId": "00698360341474675091"
     },
     "user_tz": 240
    },
    "id": "ShK7rEKPv0ij",
    "outputId": "6ee0ad27-da6b-4acb-a7ce-b97561aad3ad"
   },
   "outputs": [
    {
     "data": {
      "text/plain": [
       "array([0.86442435], dtype=float32)"
      ]
     },
     "execution_count": 15,
     "metadata": {},
     "output_type": "execute_result"
    }
   ],
   "source": [
    "GANpredictions = modelD.predict(test_features)\n",
    "min(GANpredictions)"
   ]
  },
  {
   "cell_type": "code",
   "execution_count": 29,
   "metadata": {
    "colab": {
     "base_uri": "https://localhost:8080/"
    },
    "executionInfo": {
     "elapsed": 5676,
     "status": "ok",
     "timestamp": 1632488203428,
     "user": {
      "displayName": "Isaac Manring",
      "photoUrl": "https://lh3.googleusercontent.com/a/default-user=s64",
      "userId": "00698360341474675091"
     },
     "user_tz": 240
    },
    "id": "KxpR6YdDM0zB",
    "outputId": "ebfdb5c6-882a-47ba-8a62-3dbe4b222311"
   },
   "outputs": [
    {
     "name": "stdout",
     "output_type": "stream",
     "text": [
      "49\n"
     ]
    }
   ],
   "source": [
    "pred = model.predict(test_features)\n",
    "\n",
    "id = np.asarray(range(1,len(pred)+1))\n",
    "\n",
    "count = 0\n",
    "condensed = [-1]*len(pred)\n",
    "for i in range(len(pred)):\n",
    "  condensed[i] = list(pred[i]).index(max(pred[i]))\n",
    "  if GANpredictions[i] != 1:\n",
    "    count += 1\n",
    "    condensed[i] = -1\n",
    "condensed = np.asarray(condensed)\n",
    "print(count)\n",
    "out = np.vstack((id,condensed)).T\n",
    "np.savetxt(\"/content/drive/My Drive/Colab Notebooks/Kaggle Competition/predictions.csv\",out,delimiter=',',fmt='%d')"
   ]
  },
  {
   "cell_type": "markdown",
   "metadata": {
    "id": "CVI6i2kibM_N"
   },
   "source": [
    "#RNN Implementation of DNA Classification"
   ]
  },
  {
   "cell_type": "code",
   "execution_count": 41,
   "metadata": {
    "executionInfo": {
     "elapsed": 4385,
     "status": "ok",
     "timestamp": 1632512513809,
     "user": {
      "displayName": "Isaac Manring",
      "photoUrl": "https://lh3.googleusercontent.com/a/default-user=s64",
      "userId": "00698360341474675091"
     },
     "user_tz": 240
    },
    "id": "a4w50LiTGOSe"
   },
   "outputs": [],
   "source": [
    "features_df = read_csv('/train_features.csv')\n",
    "labels_df = read_csv('/train_labels.csv')\n",
    "features = features_df.values[:,1]\n",
    "for i in range(len(features)):\n",
    "  temp = np.zeros((60,10))\n",
    "  # splitting into k-mers of size 10\n",
    "  for j in range(len(temp)):\n",
    "      for k in range(5):\n",
    "        try:\n",
    "          if features[i][j*10+k] == 'A':\n",
    "            temp[j][k] = 1\n",
    "          elif features[i][j*10+k] == 'C':\n",
    "            temp[j][k] = 2\n",
    "          elif features[i][j*10+k] == 'G':\n",
    "            temp[j][k] = 3\n",
    "          elif features[i][j*10+k] == 'T':\n",
    "            temp[j][k] = 4\n",
    "          else:\n",
    "            temp[j][k] = 0\n",
    "        except IndexError:\n",
    "          temp[j][k] = 0\n",
    "  features[i] = temp\n",
    "features = np.stack(features)\n",
    "labels = labels_df.values\n",
    "trainy = tf.keras.utils.to_categorical(labels[:,1])"
   ]
  },
  {
   "cell_type": "code",
   "execution_count": 42,
   "metadata": {
    "executionInfo": {
     "elapsed": 6,
     "status": "ok",
     "timestamp": 1632512513809,
     "user": {
      "displayName": "Isaac Manring",
      "photoUrl": "https://lh3.googleusercontent.com/a/default-user=s64",
      "userId": "00698360341474675091"
     },
     "user_tz": 240
    },
    "id": "pomudQfQPpuf"
   },
   "outputs": [],
   "source": [
    "n_timesteps, k_mer_len = features.shape[1], features.shape[2]"
   ]
  },
  {
   "cell_type": "code",
   "execution_count": 43,
   "metadata": {
    "colab": {
     "base_uri": "https://localhost:8080/"
    },
    "executionInfo": {
     "elapsed": 7,
     "status": "ok",
     "timestamp": 1632512513810,
     "user": {
      "displayName": "Isaac Manring",
      "photoUrl": "https://lh3.googleusercontent.com/a/default-user=s64",
      "userId": "00698360341474675091"
     },
     "user_tz": 240
    },
    "id": "sZeAMjfgNy71",
    "outputId": "c97919f2-57bc-4d81-bc5d-60c7250f4bd0"
   },
   "outputs": [
    {
     "data": {
      "text/plain": [
       "(12906, 60, 10)"
      ]
     },
     "execution_count": 43,
     "metadata": {},
     "output_type": "execute_result"
    }
   ],
   "source": [
    "features.shape"
   ]
  },
  {
   "cell_type": "code",
   "execution_count": 44,
   "metadata": {
    "colab": {
     "base_uri": "https://localhost:8080/"
    },
    "executionInfo": {
     "elapsed": 695,
     "status": "ok",
     "timestamp": 1632512514501,
     "user": {
      "displayName": "Isaac Manring",
      "photoUrl": "https://lh3.googleusercontent.com/a/default-user=s64",
      "userId": "00698360341474675091"
     },
     "user_tz": 240
    },
    "id": "PhzsVRuNFqVI",
    "outputId": "0444a3dd-6ca6-4464-c48d-ece3d906c9fd"
   },
   "outputs": [
    {
     "name": "stdout",
     "output_type": "stream",
     "text": [
      "Model: \"sequential_8\"\n",
      "_________________________________________________________________\n",
      "Layer (type)                 Output Shape              Param #   \n",
      "=================================================================\n",
      "bidirectional_6 (Bidirection (None, 60, 20)            1680      \n",
      "_________________________________________________________________\n",
      "flatten_8 (Flatten)          (None, 1200)              0         \n",
      "_________________________________________________________________\n",
      "dropout_8 (Dropout)          (None, 1200)              0         \n",
      "_________________________________________________________________\n",
      "dense_16 (Dense)             (None, 64)                76864     \n",
      "_________________________________________________________________\n",
      "dense_17 (Dense)             (None, 1214)              78910     \n",
      "=================================================================\n",
      "Total params: 157,454\n",
      "Trainable params: 157,454\n",
      "Non-trainable params: 0\n",
      "_________________________________________________________________\n"
     ]
    }
   ],
   "source": [
    "modelRNN = tf.keras.Sequential()\n",
    "modelRNN.add(tf.keras.layers.Bidirectional(tf.keras.layers.LSTM(10,return_sequences=True,dropout=.125),input_shape=(n_timesteps, k_mer_len)))\n",
    "modelRNN.add(tf.keras.layers.Flatten())\n",
    "modelRNN.add(tf.keras.layers.Dropout(.125))\n",
    "modelRNN.add(tf.keras.layers.Dense(64, activation='relu'))\n",
    "modelRNN.add(tf.keras.layers.Dense(n_outputs,activation='softmax'))\n",
    "modelRNN.summary()"
   ]
  },
  {
   "cell_type": "code",
   "execution_count": 45,
   "metadata": {
    "colab": {
     "base_uri": "https://localhost:8080/"
    },
    "executionInfo": {
     "elapsed": 149757,
     "status": "ok",
     "timestamp": 1632512664253,
     "user": {
      "displayName": "Isaac Manring",
      "photoUrl": "https://lh3.googleusercontent.com/a/default-user=s64",
      "userId": "00698360341474675091"
     },
     "user_tz": 240
    },
    "id": "aXZC3PbqJrW_",
    "outputId": "d7809b8f-d186-4a12-aa0d-8ee369f6df19"
   },
   "outputs": [
    {
     "name": "stdout",
     "output_type": "stream",
     "text": [
      "Epoch 1/15\n",
      "202/202 [==============================] - 16s 41ms/step - loss: 6.9473 - accuracy: 0.0149\n",
      "Epoch 2/15\n",
      "202/202 [==============================] - 8s 40ms/step - loss: 5.9361 - accuracy: 0.0855\n",
      "Epoch 3/15\n",
      "202/202 [==============================] - 8s 41ms/step - loss: 3.5848 - accuracy: 0.3507\n",
      "Epoch 4/15\n",
      "202/202 [==============================] - 8s 40ms/step - loss: 1.8292 - accuracy: 0.6391\n",
      "Epoch 5/15\n",
      "202/202 [==============================] - 8s 41ms/step - loss: 1.0648 - accuracy: 0.7889\n",
      "Epoch 6/15\n",
      "202/202 [==============================] - 8s 40ms/step - loss: 0.7135 - accuracy: 0.8598\n",
      "Epoch 7/15\n",
      "202/202 [==============================] - 8s 40ms/step - loss: 0.5359 - accuracy: 0.8917\n",
      "Epoch 8/15\n",
      "202/202 [==============================] - 8s 41ms/step - loss: 0.4291 - accuracy: 0.9097\n",
      "Epoch 9/15\n",
      "202/202 [==============================] - 8s 40ms/step - loss: 0.3607 - accuracy: 0.9222\n",
      "Epoch 10/15\n",
      "202/202 [==============================] - 8s 41ms/step - loss: 0.3074 - accuracy: 0.9322\n",
      "Epoch 11/15\n",
      "202/202 [==============================] - 8s 41ms/step - loss: 0.2635 - accuracy: 0.9386\n",
      "Epoch 12/15\n",
      "202/202 [==============================] - 8s 41ms/step - loss: 0.2418 - accuracy: 0.9436\n",
      "Epoch 13/15\n",
      "202/202 [==============================] - 8s 41ms/step - loss: 0.2116 - accuracy: 0.9485\n",
      "Epoch 14/15\n",
      "202/202 [==============================] - 8s 41ms/step - loss: 0.1898 - accuracy: 0.9515\n",
      "Epoch 15/15\n",
      "202/202 [==============================] - 8s 42ms/step - loss: 0.1677 - accuracy: 0.9568\n"
     ]
    }
   ],
   "source": [
    "modelRNN.compile(loss='categorical_crossentropy',\n",
    "              optimizer='adam',\n",
    "              metrics=['accuracy'])\n",
    "history = modelRNN.fit(features, trainy, batch_size=64, epochs=15)"
   ]
  },
  {
   "cell_type": "code",
   "execution_count": 47,
   "metadata": {
    "executionInfo": {
     "elapsed": 3041,
     "status": "ok",
     "timestamp": 1632512805431,
     "user": {
      "displayName": "Isaac Manring",
      "photoUrl": "https://lh3.googleusercontent.com/a/default-user=s64",
      "userId": "00698360341474675091"
     },
     "user_tz": 240
    },
    "id": "OZnFvLhWVxWj"
   },
   "outputs": [],
   "source": [
    "test_features_df = read_csv('/test_features.csv')\n",
    "test_features = test_features_df.values[:,1]\n",
    "for i in range(len(test_features)):\n",
    "  temp = np.zeros((60,10))\n",
    "  # splitting into k-mers of size 10\n",
    "  for j in range(len(temp)):\n",
    "      for k in range(5):\n",
    "        try:\n",
    "          if test_features[i][j*10+k] == 'A':\n",
    "            temp[j][k] = 1\n",
    "          elif test_features[i][j*10+k] == 'C':\n",
    "            temp[j][k] = 2\n",
    "          elif test_features[i][j*10+k] == 'G':\n",
    "            temp[j][k] = 3\n",
    "          elif test_features[i][j*10+k] == 'T':\n",
    "            temp[j][k] = 4\n",
    "          else:\n",
    "            temp[j][k] = 0\n",
    "        except IndexError:\n",
    "          temp[j][k] = 0\n",
    "  test_features[i] = temp\n",
    "test_features = np.stack(test_features)"
   ]
  },
  {
   "cell_type": "code",
   "execution_count": 48,
   "metadata": {
    "executionInfo": {
     "elapsed": 3115,
     "status": "ok",
     "timestamp": 1632512812739,
     "user": {
      "displayName": "Isaac Manring",
      "photoUrl": "https://lh3.googleusercontent.com/a/default-user=s64",
      "userId": "00698360341474675091"
     },
     "user_tz": 240
    },
    "id": "SPJTgua8Q0jU"
   },
   "outputs": [],
   "source": [
    "RNN_predictions = modelRNN.predict(test_features)"
   ]
  },
  {
   "cell_type": "markdown",
   "metadata": {
    "id": "TK1zNpWXFX52"
   },
   "source": [
    "# Embedding Classification Model"
   ]
  },
  {
   "cell_type": "code",
   "execution_count": 33,
   "metadata": {
    "executionInfo": {
     "elapsed": 5662,
     "status": "ok",
     "timestamp": 1632489603864,
     "user": {
      "displayName": "Isaac Manring",
      "photoUrl": "https://lh3.googleusercontent.com/a/default-user=s64",
      "userId": "00698360341474675091"
     },
     "user_tz": 240
    },
    "id": "_GPtSghAFjPU"
   },
   "outputs": [],
   "source": [
    "features_df = read_csv('/train_features.csv')\n",
    "labels_df = read_csv('/train_labels.csv')\n",
    "features = features_df.values[:,1]\n",
    "for i in range(len(features)):\n",
    "  temp = np.zeros(660)\n",
    "  for j in range(len(temp)):\n",
    "    try:\n",
    "      if features[i][j] == 'A':\n",
    "        temp[j] = 1\n",
    "      elif features[i][j] == 'C':\n",
    "        temp[j] = 2\n",
    "      elif features[i][j] == 'G':\n",
    "        temp[j] = 3\n",
    "      elif features[i][j] == 'T':\n",
    "        temp[j] = 4\n",
    "      else:\n",
    "        temp[j] = 0\n",
    "    except IndexError:\n",
    "      temp[j] = 0\n",
    "  features[i] = temp\n",
    "features = np.stack(features)\n",
    "labels = labels_df.values\n",
    "trainy = tf.keras.utils.to_categorical(labels[:,1])"
   ]
  },
  {
   "cell_type": "code",
   "execution_count": 34,
   "metadata": {
    "colab": {
     "base_uri": "https://localhost:8080/"
    },
    "executionInfo": {
     "elapsed": 98,
     "status": "ok",
     "timestamp": 1632489640840,
     "user": {
      "displayName": "Isaac Manring",
      "photoUrl": "https://lh3.googleusercontent.com/a/default-user=s64",
      "userId": "00698360341474675091"
     },
     "user_tz": 240
    },
    "id": "KlrGvTxy0goW",
    "outputId": "e4cbf5ac-c3d4-41f4-cbf4-ae558cf0bc89"
   },
   "outputs": [
    {
     "name": "stdout",
     "output_type": "stream",
     "text": [
      "Model: \"sequential_5\"\n",
      "_________________________________________________________________\n",
      "Layer (type)                 Output Shape              Param #   \n",
      "=================================================================\n",
      "embedding_1 (Embedding)      (None, 660, 32)           160       \n",
      "_________________________________________________________________\n",
      "flatten_3 (Flatten)          (None, 21120)             0         \n",
      "_________________________________________________________________\n",
      "dropout_3 (Dropout)          (None, 21120)             0         \n",
      "_________________________________________________________________\n",
      "dense_6 (Dense)              (None, 64)                1351744   \n",
      "_________________________________________________________________\n",
      "dense_7 (Dense)              (None, 1214)              78910     \n",
      "=================================================================\n",
      "Total params: 1,430,814\n",
      "Trainable params: 1,430,814\n",
      "Non-trainable params: 0\n",
      "_________________________________________________________________\n"
     ]
    }
   ],
   "source": [
    "model = tf.keras.Sequential()\n",
    "model.add(tf.keras.layers.Embedding(input_dim=5, input_length=660, output_dim=32))\n",
    "model.add(tf.keras.layers.Flatten())\n",
    "model.add(tf.keras.layers.Dropout(.125))\n",
    "model.add(tf.keras.layers.Dense(64, activation='relu'))\n",
    "model.add(tf.keras.layers.Dense(n_outputs,activation='sigmoid'))\n",
    "model.summary()"
   ]
  },
  {
   "cell_type": "code",
   "execution_count": 35,
   "metadata": {
    "colab": {
     "base_uri": "https://localhost:8080/"
    },
    "executionInfo": {
     "elapsed": 82679,
     "status": "ok",
     "timestamp": 1632489738053,
     "user": {
      "displayName": "Isaac Manring",
      "photoUrl": "https://lh3.googleusercontent.com/a/default-user=s64",
      "userId": "00698360341474675091"
     },
     "user_tz": 240
    },
    "id": "m2DruRMHLuvg",
    "outputId": "1bbdafdc-6f0a-4f34-9e4a-ce87ec3f928c"
   },
   "outputs": [
    {
     "name": "stdout",
     "output_type": "stream",
     "text": [
      "Epoch 1/10\n",
      "157/157 [==============================] - 7s 41ms/step - loss: 6.6112 - accuracy: 0.0461 - val_loss: 5.7595 - val_accuracy: 0.1108\n",
      "Epoch 2/10\n",
      "157/157 [==============================] - 6s 39ms/step - loss: 3.5917 - accuracy: 0.3983 - val_loss: 1.9462 - val_accuracy: 0.6511\n",
      "Epoch 3/10\n",
      "157/157 [==============================] - 6s 39ms/step - loss: 0.7209 - accuracy: 0.8585 - val_loss: 0.7072 - val_accuracy: 0.8844\n",
      "Epoch 4/10\n",
      "157/157 [==============================] - 6s 39ms/step - loss: 0.2494 - accuracy: 0.9451 - val_loss: 0.5571 - val_accuracy: 0.9174\n",
      "Epoch 5/10\n",
      "157/157 [==============================] - 6s 40ms/step - loss: 0.1363 - accuracy: 0.9665 - val_loss: 0.5178 - val_accuracy: 0.9274\n",
      "Epoch 6/10\n",
      "157/157 [==============================] - 6s 39ms/step - loss: 0.0841 - accuracy: 0.9793 - val_loss: 0.4874 - val_accuracy: 0.9401\n",
      "Epoch 7/10\n",
      "157/157 [==============================] - 6s 39ms/step - loss: 0.0637 - accuracy: 0.9843 - val_loss: 0.4874 - val_accuracy: 0.9418\n",
      "Epoch 8/10\n",
      "157/157 [==============================] - 6s 39ms/step - loss: 0.0456 - accuracy: 0.9887 - val_loss: 0.5059 - val_accuracy: 0.9408\n",
      "Epoch 9/10\n",
      "157/157 [==============================] - 6s 39ms/step - loss: 0.0363 - accuracy: 0.9916 - val_loss: 0.5156 - val_accuracy: 0.9425\n",
      "Epoch 10/10\n",
      "157/157 [==============================] - 6s 39ms/step - loss: 0.0295 - accuracy: 0.9923 - val_loss: 0.5056 - val_accuracy: 0.9446\n"
     ]
    }
   ],
   "source": [
    "model.compile(loss='categorical_crossentropy',\n",
    "              optimizer='adam',\n",
    "              metrics=['accuracy'])\n",
    "history = model.fit(features[:10000], trainy[:10000], validation_data=(features[10000:],trainy[10000:]),batch_size=64, epochs=10)"
   ]
  },
  {
   "cell_type": "markdown",
   "metadata": {
    "id": "yiKIUbvIZhBW"
   },
   "source": [
    "# Variational Auto Encoder"
   ]
  },
  {
   "cell_type": "code",
   "execution_count": null,
   "metadata": {
    "id": "jv1WkDwdZgE5"
   },
   "outputs": [],
   "source": [
    "features_df = read_csv('/train_features.csv')\n",
    "labels_df = read_csv('/train_labels.csv')\n",
    "features = features_df.values[:,1]\n",
    "for i in range(len(features)):\n",
    "  temp = np.zeros(660)\n",
    "  for j in range(len(temp)):\n",
    "    try:\n",
    "      if features[i][j] == 'A':\n",
    "        temp[j] = 1\n",
    "      elif features[i][j] == 'C':\n",
    "        temp[j] = 2\n",
    "      elif features[i][j] == 'G':\n",
    "        temp[j] = 3\n",
    "      elif features[i][j] == 'T':\n",
    "        temp[j] = 4\n",
    "      else:\n",
    "        temp[j] = 0\n",
    "    except IndexError:\n",
    "      temp[j] = 0\n",
    "  features[i] = temp\n",
    "  features[i] = tf.keras.utils.to_categorical(features[i])\n",
    "features = np.stack(features)\n",
    "labels = labels_df.values\n",
    "trainy = tf.keras.utils.to_categorical(labels[:,1])"
   ]
  },
  {
   "cell_type": "code",
   "execution_count": null,
   "metadata": {
    "id": "pUcuUB6nZpU-"
   },
   "outputs": [],
   "source": [
    "class CVAE(tf.keras.Model):\n",
    "  \"\"\"Convolutional variational autoencoder.\"\"\"\n",
    "\n",
    "  def __init__(self, latent_dim):\n",
    "    super(CVAE, self).__init__()\n",
    "    self.latent_dim = latent_dim\n",
    "    self.encoder = tf.keras.Sequential(\n",
    "        [\n",
    "            tf.keras.layers.InputLayer(input_shape=(660,5)),\n",
    "            tf.keras.layers.Conv1D(\n",
    "                filters=16, kernel_size=3, strides=2, activation='relu'),\n",
    "            tf.keras.layers.Conv1D(\n",
    "                filters=32, kernel_size=3, strides=2, activation='relu'),\n",
    "            tf.keras.layers.Flatten(),\n",
    "            # No activation\n",
    "            tf.keras.layers.Dense(latent_dim + latent_dim),\n",
    "        ]\n",
    "    )\n",
    "    print(self.encoder.summary())\n",
    "    self.decoder = tf.keras.Sequential(\n",
    "        [\n",
    "            tf.keras.layers.InputLayer(input_shape=(latent_dim,)),\n",
    "            tf.keras.layers.Dense(units=165*32, activation=tf.nn.relu),\n",
    "            tf.keras.layers.Reshape(target_shape=(165, 32)),\n",
    "            tf.keras.layers.Conv1DTranspose(\n",
    "                filters=32, kernel_size=3, strides=2, padding='same',\n",
    "                activation='relu'),\n",
    "            tf.keras.layers.Conv1DTranspose(\n",
    "                filters=16, kernel_size=3, strides=2, padding='same',\n",
    "                activation='relu'),\n",
    "            # No activation\n",
    "            tf.keras.layers.Conv1DTranspose(\n",
    "                filters=5, kernel_size=3, padding='same'),\n",
    "        ]\n",
    "    )\n",
    "    print(self.decoder.summary())\n",
    "\n",
    "  @tf.function\n",
    "  def sample(self, eps=None):\n",
    "    if eps is None:\n",
    "      eps = tf.random.normal(shape=(100, self.latent_dim))\n",
    "    return self.decode(eps, apply_sigmoid=True)\n",
    "\n",
    "  def encode(self, x):\n",
    "    mean, logvar = tf.split(self.encoder(x), num_or_size_splits=2, axis=1)\n",
    "    return mean, logvar\n",
    "\n",
    "  def reparameterize(self, mean, logvar):\n",
    "    eps = tf.random.normal(shape=mean.shape)\n",
    "    return eps * tf.exp(logvar * .5) + mean\n",
    "\n",
    "  def decode(self, z, apply_sigmoid=False):\n",
    "    logits = self.decoder(z)\n",
    "    if apply_sigmoid:\n",
    "      probs = tf.sigmoid(logits)\n",
    "      return probs\n",
    "    return logits"
   ]
  },
  {
   "cell_type": "code",
   "execution_count": null,
   "metadata": {
    "id": "FADF8AFNZvBc"
   },
   "outputs": [],
   "source": [
    "optimizer = tf.keras.optimizers.Adam(1e-4)\n",
    "\n",
    "\n",
    "def log_normal_pdf(sample, mean, logvar, raxis=1):\n",
    "  log2pi = tf.math.log(2. * np.pi)\n",
    "  return tf.reduce_sum(\n",
    "      -.5 * ((sample - mean) ** 2. * tf.exp(-logvar) + logvar + log2pi),\n",
    "      axis=raxis)\n",
    "\n",
    "\n",
    "def compute_loss(model, x):\n",
    "  mean, logvar = model.encode(x)\n",
    "  z = model.reparameterize(mean, logvar)\n",
    "  x_logit = model.decode(z)\n",
    "  cross_ent = tf.nn.sigmoid_cross_entropy_with_logits(logits=x_logit, labels=x)\n",
    "  logpx_z = -tf.reduce_sum(cross_ent, axis=[1, 2])\n",
    "  logpz = log_normal_pdf(z, 0., 0.)\n",
    "  logqz_x = log_normal_pdf(z, mean, logvar)\n",
    "  return -tf.reduce_mean(logpx_z + logpz - logqz_x)\n",
    "\n",
    "\n",
    "@tf.function\n",
    "def train_step(model, x, optimizer):\n",
    "  \"\"\"Executes one training step and returns the loss.\n",
    "\n",
    "  This function computes the loss and gradients, and uses the latter to\n",
    "  update the model's parameters.\n",
    "  \"\"\"\n",
    "  with tf.GradientTape() as tape:\n",
    "    loss = compute_loss(model, x)\n",
    "  gradients = tape.gradient(loss, model.trainable_variables)\n",
    "  optimizer.apply_gradients(zip(gradients, model.trainable_variables))"
   ]
  },
  {
   "cell_type": "code",
   "execution_count": null,
   "metadata": {
    "id": "I2PlrCCvZzCd"
   },
   "outputs": [],
   "source": [
    "epochs = 7\n",
    "# set the dimensionality of the latent space to a plane for visualization later\n",
    "latent_dim = 50\n",
    "\n",
    "model = CVAE(latent_dim)"
   ]
  },
  {
   "cell_type": "code",
   "execution_count": null,
   "metadata": {
    "id": "gmCJk91UZ0Fi"
   },
   "outputs": [],
   "source": [
    "for epoch in range(1, epochs + 1):\n",
    "  start_time = time.time()\n",
    "  for train_x in range(len(features)):\n",
    "    train_step(model, features[train_x:train_x+1], optimizer)\n",
    "  end_time = time.time()\n",
    "\n",
    "  loss = tf.keras.metrics.Mean()\n",
    "  for test_x in range(len(features)):\n",
    "    loss(compute_loss(model, features[test_x:test_x+1]))\n",
    "  elbo = -loss.result()\n",
    "  #display.clear_output(wait=False)\n",
    "  print('Epoch: {}, Test set ELBO: {}, time elapse for current epoch: {}'\n",
    "        .format(epoch, elbo, end_time - start_time))"
   ]
  },
  {
   "cell_type": "code",
   "execution_count": null,
   "metadata": {
    "id": "hmHjNjyzZ5Rm"
   },
   "outputs": [],
   "source": [
    "latent_features = np.zeros((len(features),latent_dim))\n",
    "for i in range(len(features)):\n",
    "  mean, logvar = model.encode(features[i:i+1])\n",
    "  z = model.reparameterize(mean,logvar)\n",
    "  z = z.numpy()[0]\n",
    "  latent_features[i] = z"
   ]
  },
  {
   "cell_type": "code",
   "execution_count": null,
   "metadata": {
    "id": "6yjPRqLSZ86N"
   },
   "outputs": [],
   "source": [
    "classifier = tf.keras.Sequential()\n",
    "classifier.add(tf.keras.layers.Dense(64,activation='relu',input_shape=(50,)))\n",
    "classifier.add(tf.keras.layers.Dense(100,activation='relu'))\n",
    "classifier.add(tf.keras.layers.Dense(1214,activation='sigmoid'))\n",
    "classifier.summary()"
   ]
  },
  {
   "cell_type": "code",
   "execution_count": null,
   "metadata": {
    "id": "eSlInWGSZ_9w"
   },
   "outputs": [],
   "source": [
    "classifier.compile(optimizer=keras.optimizers.Adam(),loss='categorical_crossentropy',metrics=['accuracy'])\n",
    "classifier.fit(latent_features[:11000], trainy[:11000], epochs=15, validation_data = (latent_features[11000:],trainy[11000:]),batch_size=64)"
   ]
  },
  {
   "cell_type": "code",
   "execution_count": null,
   "metadata": {
    "id": "5yNVAiC8aDsP"
   },
   "outputs": [],
   "source": [
    "test_features_df = read_csv('/test_features.csv')\n",
    "test_features = test_features_df.values[:,1]\n",
    "for i in range(len(test_features)):\n",
    "  temp = np.zeros(660)\n",
    "  for j in range(len(temp)):\n",
    "    try:\n",
    "      if test_features[i][j] == 'A':\n",
    "        temp[j] = 1\n",
    "      elif test_features[i][j] == 'C':\n",
    "        temp[j] = 2\n",
    "      elif test_features[i][j] == 'G':\n",
    "        temp[j] = 3\n",
    "      elif test_features[i][j] == 'T':\n",
    "        temp[j] = 4\n",
    "      else:\n",
    "        temp[j] = 0\n",
    "    except IndexError:\n",
    "      temp[j] = 0\n",
    "  test_features[i] = temp\n",
    "  test_features[i] = tf.keras.utils.to_categorical(test_features[i])\n",
    "test_features = np.stack(test_features)"
   ]
  },
  {
   "cell_type": "code",
   "execution_count": null,
   "metadata": {
    "id": "eaW_PwFjaG0I"
   },
   "outputs": [],
   "source": [
    "latent_test_features = np.zeros((len(test_features),latent_dim))\n",
    "for i in range(len(test_features)):\n",
    "  mean, logvar = model.encode(test_features[i:i+1])\n",
    "  z = model.reparameterize(mean,logvar)\n",
    "  z = z.numpy()[0]\n",
    "  latent_test_features[i] = z"
   ]
  },
  {
   "cell_type": "code",
   "execution_count": null,
   "metadata": {
    "id": "1EEZvlACaJls"
   },
   "outputs": [],
   "source": [
    "pred = classifier.predict(latent_test_features)\n",
    "id = np.asarray(range(1,len(pred)+1))\n",
    "\n",
    "count = 0\n",
    "condensed = [-1]*len(pred)\n",
    "for i in range(len(pred)):\n",
    "  condensed[i] = list(pred[i]).index(max(pred[i]))\n",
    "condensed = np.asarray(condensed)\n",
    "print(count)\n",
    "out = np.vstack((id,condensed)).T\n",
    "np.savetxt(\"/predictions.csv\",out,delimiter=',',fmt='%d')"
   ]
  }
 ],
 "metadata": {
  "colab": {
   "authorship_tag": "ABX9TyPzhg5tqjdhNGjp3NwFmF8r",
   "collapsed_sections": [],
   "name": "DNAClassification.ipynb",
   "provenance": []
  },
  "kernelspec": {
   "display_name": "Python 3",
   "language": "python",
   "name": "python3"
  },
  "language_info": {
   "codemirror_mode": {
    "name": "ipython",
    "version": 3
   },
   "file_extension": ".py",
   "mimetype": "text/x-python",
   "name": "python",
   "nbconvert_exporter": "python",
   "pygments_lexer": "ipython3",
   "version": "3.7.0"
  }
 },
 "nbformat": 4,
 "nbformat_minor": 1
}
